{
  "nbformat": 4,
  "nbformat_minor": 0,
  "metadata": {
    "colab": {
      "provenance": [],
      "collapsed_sections": []
    },
    "kernelspec": {
      "name": "python3",
      "display_name": "Python 3"
    },
    "language_info": {
      "name": "python"
    }
  },
  "cells": [
    {
      "cell_type": "markdown",
      "source": [
        "# IMPORT REQUIRED LIBRARIES"
      ],
      "metadata": {
        "id": "RbVIu7xlAZgn"
      }
    },
    {
      "cell_type": "code",
      "execution_count": null,
      "metadata": {
        "id": "Z0pdr318znzV"
      },
      "outputs": [],
      "source": [
        "import pandas as pd\n",
        "import numpy as np\n",
        "import matplotlib as plt\n",
        "from sklearn.preprocessing import LabelEncoder\n",
        "import pickle "
      ]
    },
    {
      "cell_type": "markdown",
      "source": [
        "# READ THE DATASET"
      ],
      "metadata": {
        "id": "yMaafn3bAiKG"
      }
    },
    {
      "cell_type": "code",
      "source": [
        "from google.colab import drive\n",
        "drive.mount('/content/drive')\n",
        "import pandas as pd\n",
        "data=pd.read_csv('/content/drive/MyDrive/autos - autos.csv')"
      ],
      "metadata": {
        "colab": {
          "base_uri": "https://localhost:8080/"
        },
        "id": "0wE_1vJ61E4w",
        "outputId": "e7f44bc2-3e4f-4832-ab96-84761064a994"
      },
      "execution_count": 5,
      "outputs": [
        {
          "output_type": "stream",
          "name": "stdout",
          "text": [
            "Drive already mounted at /content/drive; to attempt to forcibly remount, call drive.mount(\"/content/drive\", force_remount=True).\n"
          ]
        }
      ]
    },
    {
      "cell_type": "code",
      "source": [
        "import pandas as pd\n",
        "df=pd.read_csv(\"/content/drive/MyDrive/autos - autos.csv\") # import dataset\n",
        "print(df)"
      ],
      "metadata": {
        "colab": {
          "base_uri": "https://localhost:8080/"
        },
        "id": "xjbyBFU_1y2_",
        "outputId": "2020567e-08f9-4f37-954a-705b0a7f993d"
      },
      "execution_count": 6,
      "outputs": [
        {
          "output_type": "stream",
          "name": "stdout",
          "text": [
            "                dateCrawled                                          name  \\\n",
            "0       2016-03-24 11:52:17                                    Golf_3_1.6   \n",
            "1       2016-03-24 10:58:45                          A5_Sportback_2.7_Tdi   \n",
            "2       2016-03-14 12:52:21                Jeep_Grand_Cherokee_\"Overland\"   \n",
            "3       2016-03-17 16:54:04                            GOLF_4_1_4__3TÜRER   \n",
            "4       2016-03-31 17:25:20                Skoda_Fabia_1.4_TDI_PD_Classic   \n",
            "...                     ...                                           ...   \n",
            "371523  2016-03-14 17:48:27                    Suche_t4___vito_ab_6_sitze   \n",
            "371524  2016-03-05 19:56:21         Smart_smart_leistungssteigerung_100ps   \n",
            "371525  2016-03-19 18:57:12            Volkswagen_Multivan_T4_TDI_7DC_UY2   \n",
            "371526  2016-03-20 19:41:08                        VW_Golf_Kombi_1_9l_TDI   \n",
            "371527  2016-03-07 19:39:19  BMW_M135i_vollausgestattet_NP_52.720____Euro   \n",
            "\n",
            "        seller offerType  price   abtest vehicleType  yearOfRegistration  \\\n",
            "0       privat   Angebot    480     test         NaN                1993   \n",
            "1       privat   Angebot  18300     test       coupe                2011   \n",
            "2       privat   Angebot   9800     test         suv                2004   \n",
            "3       privat   Angebot   1500     test  kleinwagen                2001   \n",
            "4       privat   Angebot   3600     test  kleinwagen                2008   \n",
            "...        ...       ...    ...      ...         ...                 ...   \n",
            "371523  privat   Angebot   2200     test         NaN                2005   \n",
            "371524  privat   Angebot   1199     test      cabrio                2000   \n",
            "371525  privat   Angebot   9200     test         bus                1996   \n",
            "371526  privat   Angebot   3400     test       kombi                2002   \n",
            "371527  privat   Angebot  28990  control   limousine                2013   \n",
            "\n",
            "          gearbox  powerPS        model  kilometer  monthOfRegistration  \\\n",
            "0         manuell        0         golf     150000                    0   \n",
            "1         manuell      190          NaN     125000                    5   \n",
            "2       automatik      163        grand     125000                    8   \n",
            "3         manuell       75         golf     150000                    6   \n",
            "4         manuell       69        fabia      90000                    7   \n",
            "...           ...      ...          ...        ...                  ...   \n",
            "371523        NaN        0          NaN      20000                    1   \n",
            "371524  automatik      101       fortwo     125000                    3   \n",
            "371525    manuell      102  transporter     150000                    3   \n",
            "371526    manuell      100         golf     150000                    6   \n",
            "371527    manuell      320      m_reihe      50000                    8   \n",
            "\n",
            "       fuelType           brand notRepairedDamage         dateCreated  \\\n",
            "0        benzin      volkswagen               NaN  2016-03-24 0:00:00   \n",
            "1        diesel            audi                ja  2016-03-24 0:00:00   \n",
            "2        diesel            jeep               NaN  2016-03-14 0:00:00   \n",
            "3        benzin      volkswagen              nein  2016-03-17 0:00:00   \n",
            "4        diesel           skoda              nein  2016-03-31 0:00:00   \n",
            "...         ...             ...               ...                 ...   \n",
            "371523      NaN  sonstige_autos               NaN  2016-03-14 0:00:00   \n",
            "371524   benzin           smart              nein  2016-03-05 0:00:00   \n",
            "371525   diesel      volkswagen              nein  2016-03-19 0:00:00   \n",
            "371526   diesel      volkswagen               NaN  2016-03-20 0:00:00   \n",
            "371527   benzin             bmw              nein  2016-03-07 0:00:00   \n",
            "\n",
            "        nrOfPictures  postalCode             lastSeen  \n",
            "0                  0       70435   2016-04-07 3:16:57  \n",
            "1                  0       66954   2016-04-07 1:46:50  \n",
            "2                  0       90480  2016-04-05 12:47:46  \n",
            "3                  0       91074  2016-03-17 17:40:17  \n",
            "4                  0       60437  2016-04-06 10:17:21  \n",
            "...              ...         ...                  ...  \n",
            "371523             0       39576   2016-04-06 0:46:52  \n",
            "371524             0       26135  2016-03-11 18:17:12  \n",
            "371525             0       87439   2016-04-07 7:15:26  \n",
            "371526             0       40764  2016-03-24 12:45:21  \n",
            "371527             0       73326   2016-03-22 3:17:10  \n",
            "\n",
            "[371528 rows x 20 columns]\n"
          ]
        }
      ]
    },
    {
      "cell_type": "markdown",
      "source": [
        "CLEANING THE DATASET"
      ],
      "metadata": {
        "id": "4EnW_-xdAovn"
      }
    },
    {
      "cell_type": "code",
      "source": [
        "print(df.seller.value_counts)"
      ],
      "metadata": {
        "colab": {
          "base_uri": "https://localhost:8080/"
        },
        "id": "mGVofSmj2hKf",
        "outputId": "17c2c5d3-f50b-48d0-fd7f-16b027d4234b"
      },
      "execution_count": 7,
      "outputs": [
        {
          "output_type": "stream",
          "name": "stdout",
          "text": [
            "<bound method IndexOpsMixin.value_counts of 0         privat\n",
            "1         privat\n",
            "2         privat\n",
            "3         privat\n",
            "4         privat\n",
            "           ...  \n",
            "371523    privat\n",
            "371524    privat\n",
            "371525    privat\n",
            "371526    privat\n",
            "371527    privat\n",
            "Name: seller, Length: 371528, dtype: object>\n"
          ]
        }
      ]
    },
    {
      "cell_type": "code",
      "source": [
        "df[df.seller !='gewerbich']\n",
        "df=df.drop('seller',1)"
      ],
      "metadata": {
        "colab": {
          "base_uri": "https://localhost:8080/"
        },
        "id": "x9ZIvSUw2uCu",
        "outputId": "8681e989-fae7-47c3-baf8-3ba6778b62fc"
      },
      "execution_count": 9,
      "outputs": [
        {
          "output_type": "stream",
          "name": "stderr",
          "text": [
            "/usr/local/lib/python3.7/dist-packages/ipykernel_launcher.py:2: FutureWarning: In a future version of pandas all arguments of DataFrame.drop except for the argument 'labels' will be keyword-only\n",
            "  \n"
          ]
        }
      ]
    },
    {
      "cell_type": "code",
      "source": [
        "print(df.offerType.value_counts())\n",
        "df[df.offerType != 'Gesuch']\n",
        "df=df.drop('offerType',1)"
      ],
      "metadata": {
        "colab": {
          "base_uri": "https://localhost:8080/"
        },
        "id": "6Ni68DpW3QR-",
        "outputId": "d85a2853-23cd-4f66-8c39-14df911aef3e"
      },
      "execution_count": 11,
      "outputs": [
        {
          "output_type": "stream",
          "name": "stdout",
          "text": [
            "Angebot    371516\n",
            "Gesuch         12\n",
            "Name: offerType, dtype: int64\n"
          ]
        },
        {
          "output_type": "stream",
          "name": "stderr",
          "text": [
            "/usr/local/lib/python3.7/dist-packages/ipykernel_launcher.py:3: FutureWarning: In a future version of pandas all arguments of DataFrame.drop except for the argument 'labels' will be keyword-only\n",
            "  This is separate from the ipykernel package so we can avoid doing imports until\n"
          ]
        }
      ]
    },
    {
      "cell_type": "code",
      "source": [
        "df = df[(df.powerPS > 50) & (df.powerPS < 900)]\n",
        "print(df.shape)"
      ],
      "metadata": {
        "colab": {
          "base_uri": "https://localhost:8080/"
        },
        "id": "1MUn0vdq4DQA",
        "outputId": "b9502054-6203-430f-c95a-a20ec4a46747"
      },
      "execution_count": 16,
      "outputs": [
        {
          "output_type": "stream",
          "name": "stdout",
          "text": [
            "(319709, 18)\n"
          ]
        }
      ]
    }
  ]
}